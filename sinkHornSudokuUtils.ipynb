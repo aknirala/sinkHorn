{
 "cells": [
  {
   "cell_type": "code",
   "execution_count": 1,
   "metadata": {},
   "outputs": [],
   "source": [
    "import numpy as np\n",
    "\"\"\"\n",
    "This file will cntain functions which I believe are done and need no further modifications.\n",
    "And also not part of exact algo loop\n",
    "\"\"\"\n",
    "#Get sudoku from: https://www.nytimes.com/puzzles/sudoku/easy\n",
    "def getSudoku(ipFile = \"ipSudo2Medium.txt\"):\n",
    "    with open(ipFile, \"r\") as f:\n",
    "        lines = f.readlines()\n",
    "    su = []\n",
    "    for line in lines:\n",
    "        if len(line) < 9:\n",
    "            continue\n",
    "        line = line.replace(\",\", \"\").replace(\" \",\"\").replace(\"\\n\",\"\")\n",
    "        if len(line) == 0:\n",
    "            continue;\n",
    "        row = []\n",
    "        for ch in line:\n",
    "            if ch == \"_\":\n",
    "                row.append(0)\n",
    "            else:\n",
    "                row.append(int(ch))\n",
    "        su.append(row)\n",
    "    return su"
   ]
  },
  {
   "cell_type": "code",
   "execution_count": 2,
   "metadata": {},
   "outputs": [],
   "source": [
    "def SB(M, e = 0.0001):\n",
    "    \"\"\"\n",
    "    Sinkhorn balancing, given the matrix M, it'll balance it\n",
    "    \"\"\"\n",
    "    itr = 0\n",
    "    while(itr < 11):\n",
    "        T = []\n",
    "        for r in range(len(M)):\n",
    "            s = 0\n",
    "            for c in range(len(M)):\n",
    "                s += M[r][c]\n",
    "            t = []\n",
    "            for c in range(len(M)):\n",
    "                t.append(M[r][c]/s)\n",
    "            T.append(t)\n",
    "        for c in range(len(T)):\n",
    "            s = 0\n",
    "            for r in range(len(T)):\n",
    "                s += T[r][c]\n",
    "            t = []\n",
    "            for r in range(len(T)):\n",
    "                T[r][c] /= s\n",
    "        d = 0\n",
    "        for r in range(len(M)):\n",
    "            for c in range(len(M)):\n",
    "                t = M[r][c] - T[r][c]\n",
    "                d += t*t\n",
    "        #print(\"itr: \", itr, d)\n",
    "        if d < e:\n",
    "            return T\n",
    "        M = T\n",
    "        itr += 1\n",
    "    #TODO: if M is numpy array then perhaps T shoudl be converted to one too\n",
    "    return np.array(T)"
   ]
  },
  {
   "cell_type": "code",
   "execution_count": 4,
   "metadata": {},
   "outputs": [],
   "source": [
    "def printM(M, asInt = False):\n",
    "    for r in range(9):\n",
    "        print(\"\")\n",
    "        if r%3 == 0:\n",
    "                print(\"-------------------------------------------\")\n",
    "        for c in range(9):\n",
    "            if c%3 == 0:\n",
    "                print(\" | \", end='')\n",
    "            if asInt:\n",
    "                print(int(M[r][c]), end='  ')\n",
    "            else:\n",
    "                print(\"{:.3f}\".format(M[r][c]), end='  ')"
   ]
  },
  {
   "cell_type": "code",
   "execution_count": null,
   "metadata": {},
   "outputs": [],
   "source": []
  }
 ],
 "metadata": {
  "kernelspec": {
   "display_name": "Python 3",
   "language": "python",
   "name": "python3"
  },
  "language_info": {
   "codemirror_mode": {
    "name": "ipython",
    "version": 3
   },
   "file_extension": ".py",
   "mimetype": "text/x-python",
   "name": "python",
   "nbconvert_exporter": "python",
   "pygments_lexer": "ipython3",
   "version": "3.6.9"
  }
 },
 "nbformat": 4,
 "nbformat_minor": 2
}
