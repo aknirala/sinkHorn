{
 "cells": [
  {
   "cell_type": "code",
   "execution_count": 1,
   "metadata": {},
   "outputs": [],
   "source": [
    "%run sinkHornSudokuUtils.ipynb"
   ]
  },
  {
   "cell_type": "code",
   "execution_count": 2,
   "metadata": {},
   "outputs": [],
   "source": [
    "import numpy as np"
   ]
  },
  {
   "cell_type": "code",
   "execution_count": null,
   "metadata": {},
   "outputs": [],
   "source": [
    "\n"
   ]
  },
  {
   "cell_type": "code",
   "execution_count": 3,
   "metadata": {},
   "outputs": [],
   "source": [
    "def getAllCons(su):\n",
    "    allC = {}\n",
    "    N = len(su)\n",
    "    for r in range(N):\n",
    "        for c in range(N):\n",
    "            cons = [0]*N\n",
    "            if su[r][c] != 0:\n",
    "                cons[su[r][c] - 1] = 1\n",
    "            else:\n",
    "                cons = [1]*N\n",
    "                #print(r, c, cons)\n",
    "                #check row:\n",
    "                for col in range(N):\n",
    "                    if su[r][col] > 0:\n",
    "                        cons[su[r][col] - 1] = 0\n",
    "                #check col:\n",
    "                #print(\"After row\",r, c, cons)\n",
    "                for row in range(N):\n",
    "                    if su[row][c] > 0:\n",
    "                        cons[su[row][c] - 1] = 0\n",
    "                #print(\"After col\",r, c, cons)\n",
    "                #check block\n",
    "                rS = int(r/n)*n\n",
    "                cS = int(c/n)*n\n",
    "                for row in range(rS, rS + n):\n",
    "                    for col in range(cS, cS + n):\n",
    "                        if su[row][col] > 0:\n",
    "                            cons[su[row][col] - 1] = 0\n",
    "                #print(\"After block\",r, c, cons)\n",
    "                s = sum(cons)\n",
    "                #\n",
    "                for i in range(N):\n",
    "                    cons[i] /= s\n",
    "            allC[str(r) + \"_\" + str(c)] = cons\n",
    "    return allC"
   ]
  },
  {
   "cell_type": "code",
   "execution_count": null,
   "metadata": {},
   "outputs": [],
   "source": []
  },
  {
   "cell_type": "code",
   "execution_count": 4,
   "metadata": {},
   "outputs": [],
   "source": [
    "def getRCBCons(rowC, colC, blockC, allC):\n",
    "    for r in range(N):\n",
    "        rowT =[]\n",
    "        colT = []\n",
    "        for c in range(N):\n",
    "            rowT.append(allC[str(r) + \"_\" + str(c)])\n",
    "            colT.append(allC[str(c) + \"_\" + str(r)])\n",
    "        rowC.append(np.array(rowT))\n",
    "        colC.append(np.array(colT))\n",
    "\n",
    "    for i in range(n):\n",
    "        for j in range(n):\n",
    "            temp = []\n",
    "            for r in range(i*n, i*n + n):\n",
    "                for c in range(j*n, j*n + n):\n",
    "                    temp.append(allC[str(r) + \"_\" + str(c)])\n",
    "            blockC.append(np.array(temp))"
   ]
  },
  {
   "cell_type": "code",
   "execution_count": null,
   "metadata": {},
   "outputs": [],
   "source": []
  },
  {
   "cell_type": "code",
   "execution_count": 5,
   "metadata": {},
   "outputs": [],
   "source": [
    "def getMaxIdx(npArr):\n",
    "    maxI = 0\n",
    "    maxV = npArr[maxI]\n",
    "    for idx in range(1, len(npArr)):\n",
    "        if npArr[idx] == maxV:\n",
    "            maxI = -1    #We have multiple indexes with same max value, so no winner\n",
    "            continue\n",
    "        if npArr[idx] > maxV:\n",
    "            maxI = idx\n",
    "            maxV = npArr[idx]\n",
    "    return maxI"
   ]
  },
  {
   "cell_type": "code",
   "execution_count": 6,
   "metadata": {},
   "outputs": [
    {
     "name": "stdout",
     "output_type": "stream",
     "text": [
      "\n",
      "-------------------------------------------\n",
      " | 0  2  0   | 7  0  9   | 0  0  0  \n",
      " | 0  0  0   | 0  0  0   | 0  0  2  \n",
      " | 0  0  3   | 0  0  0   | 4  8  0  \n",
      "-------------------------------------------\n",
      " | 0  5  0   | 0  0  0   | 0  0  0  \n",
      " | 0  0  0   | 1  0  5   | 0  0  0  \n",
      " | 2  1  4   | 0  0  0   | 9  0  0  \n",
      "-------------------------------------------\n",
      " | 0  0  0   | 0  8  0   | 1  9  0  \n",
      " | 0  8  1   | 0  5  0   | 7  6  0  \n",
      " | 0  0  0   | 0  0  3   | 0  5  0  "
     ]
    }
   ],
   "source": [
    "su = getSudoku(\"ipSudo2Medium.txt\")\n",
    "printM(su, True)\n",
    "N = 9\n",
    "n = 3\n",
    "rowC = []\n",
    "colC = []\n",
    "blockC = []\n"
   ]
  },
  {
   "cell_type": "code",
   "execution_count": 12,
   "metadata": {},
   "outputs": [
    {
     "name": "stdout",
     "output_type": "stream",
     "text": [
      "\n",
      "-------------------------------------------\n",
      " | 0.200  0.000  0.000   | 0.200  0.200  0.200   | 0.000  0.200  0.000  \n",
      " | 0.000  1.000  0.000   | 0.000  0.000  0.000   | 0.000  0.000  0.000  \n",
      " | 0.000  0.000  0.000   | 0.000  0.333  0.333   | 0.000  0.333  0.000  \n",
      "-------------------------------------------\n",
      " | 0.000  0.000  0.000   | 0.000  0.000  0.000   | 1.000  0.000  0.000  \n",
      " | 0.250  0.000  0.250   | 0.250  0.000  0.250   | 0.000  0.000  0.000  \n",
      " | 0.000  0.000  0.000   | 0.000  0.000  0.000   | 0.000  0.000  1.000  \n",
      "-------------------------------------------\n",
      " | 0.000  0.000  0.333   | 0.000  0.333  0.333   | 0.000  0.000  0.000  \n",
      " | 0.500  0.000  0.500   | 0.000  0.000  0.000   | 0.000  0.000  0.000  \n",
      " | 0.250  0.000  0.250   | 0.000  0.250  0.250   | 0.000  0.000  0.000  "
     ]
    }
   ],
   "source": [
    "printM(rowC[0])"
   ]
  },
  {
   "cell_type": "code",
   "execution_count": null,
   "metadata": {},
   "outputs": [],
   "source": []
  },
  {
   "cell_type": "code",
   "execution_count": null,
   "metadata": {},
   "outputs": [],
   "source": []
  },
  {
   "cell_type": "code",
   "execution_count": 11,
   "metadata": {},
   "outputs": [
    {
     "name": "stdout",
     "output_type": "stream",
     "text": [
      "\n",
      "-------------------------------------------\n",
      " | 0  2  0   | 7  0  9   | 0  0  0  \n",
      " | 0  0  0   | 0  0  0   | 0  0  2  \n",
      " | 0  0  3   | 0  0  0   | 4  8  0  \n",
      "-------------------------------------------\n",
      " | 0  5  0   | 0  0  0   | 0  0  0  \n",
      " | 0  0  0   | 1  0  5   | 0  0  0  \n",
      " | 2  1  4   | 0  0  0   | 9  0  0  \n",
      "-------------------------------------------\n",
      " | 0  0  0   | 0  8  0   | 1  9  0  \n",
      " | 0  8  1   | 0  5  0   | 7  6  0  \n",
      " | 0  0  0   | 0  0  3   | 0  5  0  "
     ]
    }
   ],
   "source": [
    "cutoff = 0.5\n",
    "printM(su, True)\n",
    "for itr in range(10):\n",
    "    rowC = []\n",
    "    colC = []\n",
    "    blockC = []\n",
    "    allC = getAllCons(su)\n",
    "    getRCBCons(rowC, colC, blockC, allC)\n",
    "    if True:\n",
    "        break\n",
    "    #Now first to SB to all matricies.\n",
    "    for i in range(N):\n",
    "        rowC[i] = SB(rowC[i])\n",
    "    \n",
    "        colC[i] = SB(colC[i])\n",
    "        blockC[i] = SB(blockC[i])\n",
    "    #\n",
    "    someLeft = False\n",
    "    solved = 0\n",
    "    #Now loop through row and column.\n",
    "    for r in range(N):\n",
    "        for c in range(N):\n",
    "            if su[r][c] != 0:\n",
    "                continue\n",
    "            rC4V = rowC[r][c]\n",
    "            cC4V = colC[c][r]\n",
    "            bC4V = blockC[ int(r/n)*n + int(c/n)][(r%n)*n + (c%n)]\n",
    "            #Find the value from each constraint. If all have values and the values are same (no ties) then choose\n",
    "            #that and update the constraint (set that p to 1)\n",
    "            maxI = getMaxIdx(rC4V)\n",
    "            if maxI < 0 or rC4V[maxI] < cutoff:\n",
    "                someLeft = True\n",
    "                continue\n",
    "            tmpI = getMaxIdx(cC4V)\n",
    "            if tmpI < 0 or tmpI != maxI or cC4V[maxI] < cutoff:\n",
    "                someLeft = True\n",
    "                continue\n",
    "            tmpI = getMaxIdx(bC4V)\n",
    "            if tmpI < 0 or tmpI != maxI or bC4V[maxI] < cutoff:\n",
    "                someLeft = True\n",
    "                continue\n",
    "            solved += 1\n",
    "            su[r][c] = maxI + 1\n",
    "            for i in range(N):\n",
    "                if i == maxI:\n",
    "                    rowC[r][c][i] = 1\n",
    "                    colC[c][r][i] = 1\n",
    "                    blockC[ int(r/n)*n + int(c/n)][(r%n)*n + (c%n)][i] = 1\n",
    "                else:\n",
    "                    rowC[r][c][i] = 0\n",
    "                    colC[c][r][i] = 0\n",
    "                    blockC[ int(r/n)*n + int(c/n)][(r%n)*n + (c%n)][i] = 0\n",
    "    #Also keep track of how many values are filled.\n",
    "    if solved == 0:\n",
    "        print(\"Nothing solved... Quitting\")\n",
    "        break\n",
    "    print(\"\\nSolved: \",solved,\" Now the sudoku is:\")\n",
    "    printM(su)\n",
    "    #If all N*N are filled. Hurrey!!! Break.\n",
    "    if not someLeft:\n",
    "        break"
   ]
  },
  {
   "cell_type": "code",
   "execution_count": null,
   "metadata": {},
   "outputs": [],
   "source": []
  }
 ],
 "metadata": {
  "kernelspec": {
   "display_name": "Python 3",
   "language": "python",
   "name": "python3"
  },
  "language_info": {
   "codemirror_mode": {
    "name": "ipython",
    "version": 3
   },
   "file_extension": ".py",
   "mimetype": "text/x-python",
   "name": "python",
   "nbconvert_exporter": "python",
   "pygments_lexer": "ipython3",
   "version": "3.6.9"
  }
 },
 "nbformat": 4,
 "nbformat_minor": 2
}
